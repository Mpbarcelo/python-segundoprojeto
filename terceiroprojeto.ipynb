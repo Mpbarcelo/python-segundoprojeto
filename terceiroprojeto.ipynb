{
 "cells": [
  {
   "cell_type": "code",
   "execution_count": 2,
   "metadata": {},
   "outputs": [
    {
     "name": "stdout",
     "output_type": "stream",
     "text": [
      "Você necessita de 6.00 litros de tinta.\n"
     ]
    }
   ],
   "source": [
    "# Função para calcular a quantidade de tinta necessária\n",
    "def calcular_quantidade_de_tinta(rendimento, altura, largura):\n",
    "    area_da_parede = altura * largura\n",
    "    quantidade_de_tinta = area_da_parede / rendimento\n",
    "    return quantidade_de_tinta\n",
    "\n",
    "# Solicita ao usuário as informações necessárias\n",
    "rendimento_da_tinta = float(input(\"Digite o rendimento da tinta (em metros quadrados por litro): \"))\n",
    "altura_da_parede = float(input(\"Digite a altura da parede (em metros): \"))\n",
    "largura_da_parede = float(input(\"Digite a largura da parede (em metros): \"))\n",
    "\n",
    "# Chama a função para calcular a quantidade de tinta necessária\n",
    "quantidade_necessaria = calcular_quantidade_de_tinta(rendimento_da_tinta, altura_da_parede, largura_da_parede)\n",
    "\n",
    "# Exibe a quantidade de tinta necessária\n",
    "print(f\"Você necessita de {quantidade_necessaria:.2f} litros de tinta.\")\n"
   ]
  },
  {
   "cell_type": "code",
   "execution_count": 3,
   "metadata": {},
   "outputs": [
    {
     "name": "stdout",
     "output_type": "stream",
     "text": [
      "Funcionários que têm carro e trabalham à noite: ['Pedro', 'Sophia', 'Bruno']\n",
      "Funcionários que têm carro e trabalham durante o dia: ['Marcos', 'Alice', 'Melissa']\n",
      "Funcionários que não têm carro: []\n",
      "Funcionários que têm 'Ana' no nome: []\n"
     ]
    }
   ],
   "source": [
    "# Lista de funcionários\n",
    "funcionarios = ['Marcos', 'Alice', 'Pedro', 'Sophia', 'Bruno', 'Melissa']\n",
    "\n",
    "# Lista de funcionários que têm carro e trabalham à noite\n",
    "tem_carro_e_noite = ['Pedro', 'Sophia', 'Bruno']\n",
    "\n",
    "# Lista de funcionários que têm carro e trabalham durante o dia\n",
    "tem_carro_e_dia = ['Marcos', 'Alice', 'Melissa']\n",
    "\n",
    "# Lista de funcionários que não têm carro\n",
    "nao_tem_carro = [funcionario for funcionario in funcionarios if funcionario not in tem_carro_e_noite and funcionario not in tem_carro_e_dia]\n",
    "\n",
    "# Lista de funcionários que têm \"Ana\" no nome\n",
    "funcionarios_com_ana = [funcionario for funcionario in funcionarios if 'Ana' in funcionario]\n",
    "\n",
    "# Imprime as listas geradas\n",
    "print(\"Funcionários que têm carro e trabalham à noite:\", tem_carro_e_noite)\n",
    "print(\"Funcionários que têm carro e trabalham durante o dia:\", tem_carro_e_dia)\n",
    "print(\"Funcionários que não têm carro:\", nao_tem_carro)\n",
    "print(\"Funcionários que têm 'Ana' no nome:\", funcionarios_com_ana)\n"
   ]
  }
 ],
 "metadata": {
  "kernelspec": {
   "display_name": "Python 3",
   "language": "python",
   "name": "python3"
  },
  "language_info": {
   "codemirror_mode": {
    "name": "ipython",
    "version": 3
   },
   "file_extension": ".py",
   "mimetype": "text/x-python",
   "name": "python",
   "nbconvert_exporter": "python",
   "pygments_lexer": "ipython3",
   "version": "3.11.5"
  },
  "orig_nbformat": 4
 },
 "nbformat": 4,
 "nbformat_minor": 2
}
